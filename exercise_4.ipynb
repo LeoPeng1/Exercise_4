{
 "cells": [
  {
   "cell_type": "code",
   "execution_count": 1,
   "metadata": {},
   "outputs": [],
   "source": [
    "import sqlite3\n",
    "#connect to database\n",
    "conn = sqlite3.connect('libray.db')\n",
    "cursor = conn.cursor()"
   ]
  },
  {
   "cell_type": "code",
   "execution_count": 2,
   "metadata": {},
   "outputs": [
    {
     "data": {
      "text/plain": [
       "<sqlite3.Cursor at 0x1ffdffb0ea0>"
      ]
     },
     "execution_count": 2,
     "metadata": {},
     "output_type": "execute_result"
    }
   ],
   "source": [
    "#create book table\n",
    "cursor.execute('''CREATE TABLE IF NOT EXISTS Books (\n",
    "                   BookID TEXT PRIMARY KEY,\n",
    "                   Title TEXT,\n",
    "                   Author TEXT,\n",
    "                   ISBN TEXT,\n",
    "                   Status TEXT\n",
    "                )''')"
   ]
  },
  {
   "cell_type": "code",
   "execution_count": 3,
   "metadata": {},
   "outputs": [
    {
     "data": {
      "text/plain": [
       "<sqlite3.Cursor at 0x1ffdffb0ea0>"
      ]
     },
     "execution_count": 3,
     "metadata": {},
     "output_type": "execute_result"
    }
   ],
   "source": [
    "#create user table\n",
    "cursor.execute('''CREATE TABLE IF NOT EXISTS Users (\n",
    "                    UserID TEXT PRIMARY KEY,\n",
    "                    name TEXT,\n",
    "                    email TEXT)''') "
   ]
  },
  {
   "cell_type": "code",
   "execution_count": 4,
   "metadata": {},
   "outputs": [
    {
     "data": {
      "text/plain": [
       "<sqlite3.Cursor at 0x1ffdffb0ea0>"
      ]
     },
     "execution_count": 4,
     "metadata": {},
     "output_type": "execute_result"
    }
   ],
   "source": [
    "#create reservation table\n",
    "cursor.execute('''CREATE TABLE IF NOT EXISTS Reservations (\n",
    "                    ReservationID TEXT PRIMARY KEY,\n",
    "                    BookID TEXT,\n",
    "                    UserID TEXT,\n",
    "                    ReservationDate TEXT)''')"
   ]
  },
  {
   "cell_type": "code",
   "execution_count": 5,
   "metadata": {},
   "outputs": [],
   "source": [
    "def add_book():\n",
    "    book_id = input(\"Please enter book id: \")\n",
    "    title = input(\"Please enter book title: \")\n",
    "    author = input(\"Please enter book author: \")\n",
    "    isbn = input(\"Please enter book isbn: \")\n",
    "    status = input(\"Please enter book status: \")\n",
    "    cursor.execute('''INSERT INTO Books (BookID, Title, Author, ISBN, Status) VALUES (?, ?, ?, ?, ?)''', (book_id, title, author, isbn, status))\n",
    "    conn.commit()\n",
    "    print(\"Book added successfully\")"
   ]
  },
  {
   "cell_type": "code",
   "execution_count": 16,
   "metadata": {},
   "outputs": [],
   "source": [
    "def find_book_details():\n",
    "    book_id = input(\"Please enter book id: \")\n",
    "    cursor.execute('''SELECT Books.BookID, Books.Title, Books.Author, Books.ISBN, Books.Status,\n",
    "                      Users.UserID, Users.Name, Users.Email, Reservations.ReservationID, Reservations.ReservationDate\n",
    "                      FROM Books\n",
    "                      LEFT JOIN Reservations ON Books.BookID = Reservations.BookID\n",
    "                      LEFT JOIN Users ON Reservations.UserID = Users.UserID\n",
    "                      WHERE Books.BookID = ?''', (book_id,))\n",
    "    result = cursor.fetchone()\n",
    "    if result:\n",
    "        print(\"Book Details:\")\n",
    "        print(\"Book ID:\", result[0])\n",
    "        print(\"Title:\", result[1])\n",
    "        print(\"Author:\", result[2])\n",
    "        print(\"ISBN:\", result[3])\n",
    "        print(\"Status:\", result[4])\n",
    "        \n",
    "        if result[4] == 'reserved':\n",
    "            print(\"Reserved By:\")\n",
    "            print(\"User ID:\", result[5])\n",
    "            print(\"Name:\", result[6])\n",
    "            print(\"Email:\", result[7])\n",
    "            print(\"Reservation ID:\", result[8])\n",
    "            print(\"Reservation Date:\", result[9])\n",
    "\n",
    "    else:\n",
    "        print(\"Book not found.\")"
   ]
  },
  {
   "cell_type": "code",
   "execution_count": 7,
   "metadata": {},
   "outputs": [],
   "source": [
    "# Find a book’s reservation status based on the BookID, Title, UserID, and ReservationID.\n",
    "def find_book_reservation_status():\n",
    "    reservation_input = input(\"Please enter book id (starts with LB), title, user id(starts with LU) or reservation id (starts with LR): \")\n",
    "    if reservation_input.startswith(\"LB\"):#BOOK ID SEARCH\n",
    "        cursor.execute(\"SELECT Status FROM Books WHERE BookID = ?\", (reservation_input,))\n",
    "        result = cursor.fetchone()\n",
    "        if result:\n",
    "            print(\"Reservation Status of book: \",reservation_input)\n",
    "            print(\"Book Status: \",result[0])\n",
    "        else:\n",
    "            print(\"Book not found.\")\n",
    "    elif reservation_input.startswith(\"LU\"):#USER ID SEARCH\n",
    "        cursor.execute(\"SELECT Books.BookID, Books.Status FROM Books LEFT JOIN Reservations ON Books.BookID = Reservations.BookID WHERE Reservations.UserID = ?\", (reservation_input,))\n",
    "        result = cursor.fetchall()\n",
    "        if result:\n",
    "            print(\"Reservation Status of book: \",reservation_input)\n",
    "            print(\"Book Status: \",result[1])\n",
    "        else:\n",
    "            print(\"Book not found.\")\n",
    "    elif reservation_input.startswith(\"LR\"):#RESERVATION ID SEARCH\n",
    "        cursor.execute(\"SELECT Books.BookID, Books.Status FROM Books LEFT JOIN Reservations ON Books.BookID = Reservations.BookID WHERE Reservations.ReservationID = ?\", (reservation_input,))\n",
    "        result = cursor.fetchall()\n",
    "        if result:\n",
    "            print(\"Reservation Status of book: \",reservation_input)\n",
    "            print(\"Book Status: \",result[1])\n",
    "        else:\n",
    "            print(\"Book not found.\")\n",
    "    else:#TITLE SEARCH\n",
    "        cursor.execute(\"SELECT Books.BookID, Books.Status FROM Books WHERE Books.Title = ?\", (reservation_input,))\n",
    "        result = cursor.fetchall()\n",
    "        if result:\n",
    "            print(\"Reservation Status of book: \",reservation_input)\n",
    "            print(\"Book Status: \",result[1])\n"
   ]
  },
  {
   "cell_type": "code",
   "execution_count": 8,
   "metadata": {},
   "outputs": [],
   "source": [
    "#find all the book in the database\n",
    "def find_all_books():\n",
    "    cursor.execute('''SELECT Books.BookID, Books.Title, Books.Author, Books.ISBN, Books.Status,\n",
    "                    Users.UserID, Users.Name, Users.Email, Reservations.ReservationID, Reservations.ReservationDate\n",
    "                    FROM Books\n",
    "                    LEFT JOIN Reservations ON Books.BookID = Reservations.BookID\n",
    "                    LEFT JOIN Users ON Reservations.UserID = Users.UserID''')\n",
    "    results = cursor.fetchall()\n",
    "    if results:\n",
    "        print(\"All Books:\")\n",
    "        for result in results:\n",
    "            print(\"Book ID: \", result[0])\n",
    "            print(\"Title: \", result[1])\n",
    "            print(\"Author: \", result[2])\n",
    "            print(\"ISBN: \", result[3])\n",
    "            print(\"Status: \", result[4])\n",
    "            if result[5]:\n",
    "                print(\"Reserved By:\")\n",
    "                print(\"User ID: \", result[5])\n",
    "                print(\"Name: \", result[6])\n",
    "                print(\"Email: \", result[7])\n",
    "                print(\"Reservation ID: \", result[8])\n",
    "                print(\"Reservation Date: \", result[9])\n",
    "        print(\"----------------------------------------\")\n",
    "    else:\n",
    "        print(\"No books found\")\n"
   ]
  },
  {
   "cell_type": "code",
   "execution_count": 37,
   "metadata": {},
   "outputs": [],
   "source": [
    "# Modify / update book details based on its BookID\n",
    "def update_book_details():\n",
    "    book_id = input(\"Please enter book id: \")\n",
    "    cursor.execute('''SELECT Books.BookID, Books.Title, Books.Author, Books.ISBN, Books.Status,\n",
    "                    Users.UserID, Users.Name, Users.Email, Reservations.ReservationID, Reservations.ReservationDate\n",
    "                    FROM Books\n",
    "                    LEFT JOIN Reservations ON Books.BookID = Reservations.BookID\n",
    "                    LEFT JOIN Users ON Reservations.UserID = Users.UserID\n",
    "                    WHERE Books.BookID = ?''', (book_id,))\n",
    "    results = cursor.fetchall()\n",
    "    result = results[0]\n",
    "    if result:\n",
    "        print(\"Current Book Details:\")\n",
    "        print(\"Title:\", result[1])\n",
    "        print(\"Author:\", result[2])\n",
    "        print(\"ISBN:\", result[3])\n",
    "        print(\"Status:\", result[4])\n",
    "        print(\"Reserved By:\", result[6])\n",
    "        print(\"User ID:\", result[5])\n",
    "        print(\"Email:\", result[7])\n",
    "        print(\"Reservation ID:\", result[8])\n",
    "        print(\"Reservation Date:\", result[9])\n",
    "        while True:\n",
    "            print(\"Which part do you want to modify: \")\n",
    "            print(\"1.Title\")\n",
    "            print(\"2.Author\")\n",
    "            print(\"3.ISBN\")\n",
    "            print(\"4.Status\")\n",
    "            print(\"5.User Name\")\n",
    "            print(\"6.Email\")\n",
    "            print(\"7.Reservation ID\")\n",
    "            print(\"8.Reservation Date\")\n",
    "            print(\"9.Exit\")\n",
    "            choice = input(\"Please enter your choice: \")\n",
    "            if choice == \"1\":\n",
    "                Title = input(\"Please enter book title: \")\n",
    "                cursor.execute('''UPDATE Books SET Title = ?, Author = ?, ISBN = ?, Status = ? WHERE BookID = ?''', ( Title, result[2], result[3], result[4], book_id))\n",
    "            elif choice == \"2\":\n",
    "                Author = input(\"Please enter book author: \")\n",
    "                cursor.execute('''UPDATE Books SET Title = ?, Author = ?, ISBN = ?, Status = ? WHERE BookID = ?''', ( result[1], Author, result[3], result[4], book_id))\n",
    "            elif choice == \"3\":\n",
    "                ISBN = input(\"Please enter book isbn: \")\n",
    "                cursor.execute('''UPDATE Books SET Title = ?, Author = ?, ISBN = ?, Status = ? WHERE BookID = ?''', ( result[1], result[2], ISBN, result[4], book_id))\n",
    "            elif choice == \"4\":\n",
    "                status = input(\"Please enter book status: \")\n",
    "                cursor.execute('''UPDATE Books SET Title = ?, Author = ?, ISBN = ?, Status = ? WHERE BookID = ?''', ( result[1], result[2], result[3], status, book_id))\n",
    "            elif choice == \"5\":\n",
    "                user_name = input(\"Please enter user name: \")\n",
    "                cursor.execute('''UPDATE Users SET Name = ?, Email = ? WHERE UserID = ?''', (user_name, result[7], result[5]))\n",
    "            elif choice == \"6\":\n",
    "                email = input(\"Please enter user email: \")\n",
    "                cursor.execute('''UPDATE Users SET Name = ?, Email = ? WHERE UserID = ?''', (result[6], email, result[5]))\n",
    "            elif choice == \"7\":\n",
    "                reservation_id = input(\"Please enter reservation id: \")\n",
    "                cursor.execute('''UPDATE Reservations SET ReservationID = ?, ReservationDate = ? WHERE BookID = ?''', (reservation_id, result[9], book_id))\n",
    "            elif choice == \"8\":\n",
    "                reservation_date = input(\"Please enter reservation date: \")\n",
    "                cursor.execute('''UPDATE Reservations SET ReservationID = ?, ReservationDate = ? WHERE BookID = ?''', (result[8], reservation_date, book_id))\n",
    "            elif choice == \"9\":\n",
    "                break\n",
    "            # cursor.execute('''UPDATE Books SET Title = ?, Author = ?, ISBN = ?, Status = ? WHERE BookID = ?''', ( Title, Author, ISBN, status, book_id))\n",
    "            # cursor.execute('''UPDATE Users SET Name = ?, Email = ? WHERE UserID = ?''', (user_name, email, result[5]))\n",
    "            # cursor.execute('''UPDATE Reservations SET ReservationID = ?, ReservationDate = ? WHERE BookID = ?''', (reservation_id, reservation_date, book_id))\n",
    "            conn.commit()\n",
    "            print(\"Book updated successfully\")\n",
    "        else:\n",
    "            print(\"No modification made\")\n",
    "    else:\n",
    "        print(\"Book not found.\")\n",
    "        "
   ]
  },
  {
   "cell_type": "code",
   "execution_count": 10,
   "metadata": {},
   "outputs": [],
   "source": [
    "#Delete a book based on its BookID\n",
    "def delete_book():\n",
    "    book_id = input(\"Please enter book id: \")\n",
    "    cursor.execute('''SELECT * FROM Books WHERE BookID = ?''', (book_id,))\n",
    "    result = cursor.fetchone()\n",
    "    if result:\n",
    "        print(\"Current Book Details:\")\n",
    "        print(\"Title:\", result[1])\n",
    "        print(\"Author:\", result[2])\n",
    "        print(\"ISBN:\", result[3])\n",
    "        print(\"Status:\", result[4])\n",
    "        choice = input(\"Do you want to delete the book? (y/n): \")\n",
    "        if choice == \"y\":\n",
    "            cursor.execute('''DELETE FROM Books WHERE BookID = ?''', (book_id,))\n",
    "            conn.commit()\n",
    "            print(\"Book deleted successfully\")\n",
    "        else:\n",
    "            print(\"No modification made\")\n",
    "    else:\n",
    "        print(\"Book not found.\")"
   ]
  },
  {
   "cell_type": "code",
   "execution_count": 11,
   "metadata": {},
   "outputs": [],
   "source": [
    "#main function\n",
    "def main():\n",
    "    while True:\n",
    "        print(\"Welcome to the Library Management System\")\n",
    "        print(\"1. Add a book\")\n",
    "        print(\"2. Find a book's detail based on BookID\")\n",
    "        print(\"3. Find a book’s reservation status based on the BookID, Title, UserID, and ReservationID\")\n",
    "        print(\"4. Find all the books in the database\")\n",
    "        print(\"5. Modify / update book details based on its BookID\")\n",
    "        print(\"6. Delete a book based on its BookID\")\n",
    "        print(\"7. Exit\")\n",
    "        choice = input(\"Please enter your choice: \")\n",
    "        if choice == \"1\":\n",
    "            add_book()\n",
    "        elif choice == \"2\":\n",
    "            find_book_details()\n",
    "        elif choice == \"3\":\n",
    "            find_book_reservation_status()\n",
    "        elif choice == \"4\":\n",
    "            find_all_books()\n",
    "        elif choice == \"5\":\n",
    "            update_book_details()\n",
    "        elif choice == \"6\":\n",
    "            delete_book()\n",
    "        elif choice == \"7\":\n",
    "            break\n",
    "        else:\n",
    "            print(\"Invalid choice\")\n",
    "            \n",
    "        "
   ]
  },
  {
   "cell_type": "code",
   "execution_count": 39,
   "metadata": {},
   "outputs": [
    {
     "name": "stdout",
     "output_type": "stream",
     "text": [
      "Welcome to the Library Management System\n",
      "1. Add a book\n",
      "2. Find a book's detail based on BookID\n",
      "3. Find a book’s reservation status based on the BookID, Title, UserID, and ReservationID\n",
      "4. Find all the books in the database\n",
      "5. Modify / update book details based on its BookID\n",
      "6. Delete a book based on its BookID\n",
      "7. Exit\n",
      "Current Book Details:\n",
      "Title: I love you\n",
      "Author: pavolos\n",
      "ISBN: 999\n",
      "Status: reserved\n",
      "Reserved By: Yuepeng\n",
      "User ID: 202201223\n",
      "Email: li789@gmail.com\n",
      "Reservation ID: 003\n",
      "Reservation Date: 2023-09-21\n",
      "Which part do you want to modify: \n",
      "1.Title\n",
      "2.Author\n",
      "3.ISBN\n",
      "4.Status\n",
      "5.User Name\n",
      "6.Email\n",
      "7.Reservation ID\n",
      "8.Reservation Date\n",
      "9.Exit\n",
      "Book updated successfully\n",
      "Which part do you want to modify: \n",
      "1.Title\n",
      "2.Author\n",
      "3.ISBN\n",
      "4.Status\n",
      "5.User Name\n",
      "6.Email\n",
      "7.Reservation ID\n",
      "8.Reservation Date\n",
      "9.Exit\n",
      "Welcome to the Library Management System\n",
      "1. Add a book\n",
      "2. Find a book's detail based on BookID\n",
      "3. Find a book’s reservation status based on the BookID, Title, UserID, and ReservationID\n",
      "4. Find all the books in the database\n",
      "5. Modify / update book details based on its BookID\n",
      "6. Delete a book based on its BookID\n",
      "7. Exit\n"
     ]
    }
   ],
   "source": [
    "if __name__ == \"__main__\":\n",
    "    main()"
   ]
  },
  {
   "cell_type": "markdown",
   "metadata": {},
   "source": [
    "### Bonus"
   ]
  },
  {
   "cell_type": "code",
   "execution_count": 20,
   "metadata": {},
   "outputs": [],
   "source": [
    "import nltk\n",
    "from nltk.corpus import gutenberg\n",
    "from gensim import corpora, models\n",
    "import pyLDAvis.gensim"
   ]
  },
  {
   "cell_type": "code",
   "execution_count": 21,
   "metadata": {},
   "outputs": [
    {
     "name": "stderr",
     "output_type": "stream",
     "text": [
      "[nltk_data] Downloading package gutenberg to\n",
      "[nltk_data]     C:\\Users\\admib'\\AppData\\Roaming\\nltk_data...\n",
      "[nltk_data]   Package gutenberg is already up-to-date!\n"
     ]
    },
    {
     "data": {
      "text/plain": [
       "True"
      ]
     },
     "execution_count": 21,
     "metadata": {},
     "output_type": "execute_result"
    }
   ],
   "source": [
    "nltk.download('gutenberg')"
   ]
  },
  {
   "cell_type": "code",
   "execution_count": 22,
   "metadata": {},
   "outputs": [],
   "source": [
    "# Load the text\n",
    "raw_text = gutenberg.raw('carroll-alice.txt')\n",
    "\n",
    "# Tokenize the text into sentences\n",
    "sentences = nltk.sent_tokenize(raw_text)\n",
    "\n",
    "# Tokenize each sentence into words\n",
    "words = [nltk.word_tokenize(sentence) for sentence in sentences]\n",
    "\n",
    "# Remove stopwords and punctuation, and convert to lowercase\n",
    "stopwords = nltk.corpus.stopwords.words('english')\n",
    "words = [[word.lower() for word in sentence if word.isalpha() and word.lower() not in stopwords] for sentence in words]"
   ]
  },
  {
   "cell_type": "code",
   "execution_count": 23,
   "metadata": {},
   "outputs": [],
   "source": [
    "# Create a dictionary\n",
    "dictionary = corpora.Dictionary(words)\n",
    "\n",
    "# Create a corpus\n",
    "corpus = [dictionary.doc2bow(sentence) for sentence in words]"
   ]
  },
  {
   "cell_type": "code",
   "execution_count": 24,
   "metadata": {},
   "outputs": [],
   "source": [
    "# Train the LDA model\n",
    "lda_model = models.LdaModel(corpus, num_topics=5, id2word=dictionary, passes=10)"
   ]
  },
  {
   "cell_type": "code",
   "execution_count": 26,
   "metadata": {},
   "outputs": [
    {
     "data": {
      "text/html": [
       "\n",
       "<link rel=\"stylesheet\" type=\"text/css\" href=\"https://cdn.jsdelivr.net/gh/bmabey/pyLDAvis@3.4.0/pyLDAvis/js/ldavis.v1.0.0.css\">\n",
       "\n",
       "\n",
       "<div id=\"ldavis_el1294423212098502249254487247\" style=\"background-color:white;\"></div>\n",
       "<script type=\"text/javascript\">\n",
       "\n",
       "var ldavis_el1294423212098502249254487247_data = {\"mdsDat\": {\"x\": [-0.012550694185100303, -0.047718943745851464, 0.10532431677784507, 0.04149505618306854, -0.08654973502996181], \"y\": [-0.0008730684207619243, -0.08071644953627492, 0.05820346435179752, -0.06223482133144223, 0.08562087493668152], \"topics\": [1, 2, 3, 4, 5], \"cluster\": [1, 1, 1, 1, 1], \"Freq\": [26.929226032594606, 23.03187359803001, 17.65936826184134, 17.47924005021681, 14.90029205731723]}, \"tinfo\": {\"Term\": [\"march\", \"hare\", \"mock\", \"turtle\", \"would\", \"alice\", \"gryphon\", \"hatter\", \"said\", \"little\", \"began\", \"mouse\", \"cried\", \"mad\", \"know\", \"one\", \"king\", \"wo\", \"ca\", \"till\", \"queen\", \"could\", \"caterpillar\", \"things\", \"majesty\", \"come\", \"much\", \"thing\", \"got\", \"take\", \"glass\", \"slowly\", \"fall\", \"twinkle\", \"e\", \"times\", \"pair\", \"swam\", \"four\", \"table\", \"ventured\", \"grunted\", \"french\", \"frowning\", \"ann\", \"muttering\", \"doth\", \"carefully\", \"need\", \"whatever\", \"pieces\", \"fun\", \"order\", \"shore\", \"hunting\", \"washing\", \"lessons\", \"nurse\", \"lived\", \"live\", \"meaning\", \"changed\", \"king\", \"small\", \"mouse\", \"one\", \"little\", \"know\", \"heard\", \"round\", \"ever\", \"words\", \"room\", \"look\", \"shall\", \"must\", \"say\", \"way\", \"went\", \"alice\", \"see\", \"looked\", \"never\", \"said\", \"let\", \"poor\", \"something\", \"thing\", \"like\", \"thought\", \"great\", \"hand\", \"last\", \"door\", \"came\", \"first\", \"time\", \"serpent\", \"croquet\", \"simple\", \"ought\", \"sigh\", \"wow\", \"severely\", \"wo\", \"mock\", \"sulky\", \"crab\", \"wrote\", \"whisper\", \"tossing\", \"lady\", \"easily\", \"treacle\", \"turtle\", \"draw\", \"lory\", \"show\", \"witness\", \"feel\", \"whether\", \"wasting\", \"wash\", \"chose\", \"tells\", \"smiled\", \"invitation\", \"tell\", \"caterpillar\", \"would\", \"pigeon\", \"almost\", \"gardeners\", \"hearts\", \"duchess\", \"queen\", \"indeed\", \"said\", \"much\", \"three\", \"think\", \"speak\", \"offended\", \"hear\", \"like\", \"cat\", \"could\", \"course\", \"tone\", \"large\", \"alice\", \"head\", \"know\", \"see\", \"little\", \"quite\", \"time\", \"well\", \"yet\", \"never\", \"gryphon\", \"rabbit\", \"march\", \"hare\", \"puppy\", \"mad\", \"care\", \"stick\", \"sister\", \"subject\", \"muchness\", \"bank\", \"longer\", \"fur\", \"expecting\", \"hanging\", \"grave\", \"sighing\", \"whiskers\", \"hope\", \"dream\", \"till\", \"coaxing\", \"drunk\", \"earnestly\", \"entangled\", \"yawning\", \"ferrets\", \"proceed\", \"authority\", \"wet\", \"hush\", \"place\", \"sit\", \"far\", \"case\", \"moved\", \"take\", \"things\", \"tired\", \"remember\", \"turning\", \"grow\", \"half\", \"getting\", \"set\", \"least\", \"get\", \"thing\", \"deal\", \"among\", \"said\", \"angrily\", \"good\", \"dormouse\", \"alice\", \"sure\", \"change\", \"went\", \"looking\", \"much\", \"way\", \"little\", \"hatter\", \"ca\", \"quite\", \"eyes\", \"away\", \"made\", \"head\", \"first\", \"time\", \"king\", \"thought\", \"majesty\", \"business\", \"politely\", \"number\", \"finish\", \"tree\", \"bats\", \"prizes\", \"indignantly\", \"fellow\", \"yer\", \"honour\", \"writing\", \"fast\", \"tails\", \"sad\", \"spectacles\", \"asleep\", \"pity\", \"pebbles\", \"comfits\", \"singers\", \"paris\", \"sell\", \"rome\", \"sulkily\", \"giddy\", \"brown\", \"using\", \"stamping\", \"please\", \"give\", \"dropped\", \"hatter\", \"spoke\", \"got\", \"come\", \"ca\", \"nearly\", \"alice\", \"saying\", \"said\", \"thought\", \"began\", \"finished\", \"use\", \"queen\", \"done\", \"voice\", \"put\", \"could\", \"quite\", \"rabbit\", \"hastily\", \"see\", \"one\", \"must\", \"head\", \"would\", \"little\", \"round\", \"long\", \"came\", \"cat\", \"time\", \"dormouse\", \"sharply\", \"ootiful\", \"beau\", \"screamed\", \"sha\", \"brought\", \"stuff\", \"loud\", \"venture\", \"panther\", \"owl\", \"guests\", \"cautiously\", \"execution\", \"cry\", \"leave\", \"custody\", \"mystery\", \"drawling\", \"pray\", \"sorrowful\", \"messages\", \"bite\", \"telling\", \"mustard\", \"sending\", \"directly\", \"swimming\", \"proves\", \"thoughts\", \"cried\", \"mean\", \"dinah\", \"gryphon\", \"others\", \"whispered\", \"oh\", \"better\", \"question\", \"late\", \"wish\", \"soo\", \"go\", \"talking\", \"began\", \"could\", \"alice\", \"minute\", \"beginning\", \"tried\", \"felt\", \"time\", \"day\", \"said\", \"mouse\", \"first\", \"looked\", \"went\", \"next\", \"dear\", \"think\", \"replied\", \"get\", \"like\", \"one\", \"know\", \"would\", \"rabbit\", \"queen\"], \"Freq\": [29.0, 26.0, 47.0, 49.0, 75.0, 330.0, 45.0, 47.0, 386.0, 109.0, 48.0, 36.0, 17.0, 13.0, 75.0, 84.0, 53.0, 20.0, 20.0, 16.0, 63.0, 72.0, 24.0, 25.0, 10.0, 26.0, 43.0, 42.0, 38.0, 17.0, 7.87116843941858, 7.022392183669216, 6.159802416352958, 6.145551581483719, 5.312203058503322, 5.307358918700302, 4.445517214113035, 4.44248178444064, 5.071021287030721, 13.671154528373378, 3.598304988874504, 3.598093523682737, 3.5925061187903307, 3.586703558214155, 3.5280225210726774, 2.7415923300728813, 2.741566496628861, 2.7415233178724265, 2.741410019767937, 2.741094851750889, 2.7411869295263616, 2.7406503319891384, 2.7407866956686457, 2.7404237357801597, 2.7394865353360203, 2.738548965842681, 7.511672446726273, 2.7336142244609896, 2.732609118963997, 6.133966758037383, 6.1597289755621, 5.8635418969829205, 33.98446542076571, 6.8821697257234336, 23.24510121596681, 49.43084846011828, 58.43365017675089, 41.411586481410104, 16.51896992071683, 21.366417880768434, 12.162821660946273, 12.026133218142478, 8.092192005472883, 14.550145580248971, 12.567064131075469, 20.220320827296597, 22.661001141878973, 22.762011384195432, 30.435272023269135, 87.94890025805607, 24.301929696478645, 17.999179024786557, 17.96957537413601, 76.41412283567308, 9.528091586358867, 11.992427216581497, 9.647378621270539, 17.097213922094447, 22.496270864640262, 19.912985510475025, 14.203518333170813, 9.872424823608016, 12.461424535590558, 11.908822072649164, 13.080148805649698, 14.232389790207982, 14.84171511523411, 6.0265656014632105, 5.207684069106656, 4.374535370946632, 10.843542194009492, 3.5355397893251044, 3.534431583331078, 3.5249646444592955, 16.55124685066346, 38.87833077411491, 2.692283406588976, 2.6860934243192958, 2.686184012505079, 2.6809346323038112, 2.680000658639236, 2.675815610711354, 2.659142649953038, 2.6331619898341856, 38.66419924121962, 5.220552957338626, 5.172287445697917, 2.499085477747467, 6.83971356450006, 5.596742020026251, 7.510523814800333, 1.8517571371383308, 1.8517344111823155, 1.8517202074598058, 1.8516856450683659, 1.8516597627295706, 1.85163940406064, 17.564657831937232, 16.756825848778305, 49.24806077371351, 7.546596219762251, 4.150849783014838, 5.2057539410367415, 5.214037867642614, 18.844435956007565, 29.149495460105154, 8.572860622992367, 123.50229898510676, 21.059201574802035, 11.86246295706387, 20.435918242571972, 7.122844256240724, 5.858361963121832, 7.445452458686274, 27.7607754156628, 13.968007631248577, 24.656490627365343, 10.827940825204955, 14.51531304230688, 12.564951296219872, 55.49990057056164, 15.721198982946422, 19.45055487868048, 16.705566192432574, 22.47856125816553, 13.643109788734481, 14.097251405660977, 10.830551785040496, 9.177222071733429, 10.064723050086938, 9.520276690550675, 9.233261122884498, 27.225357937152204, 24.72214067888172, 5.864640785304431, 11.649107114667437, 3.5028522411678997, 3.4813526874844487, 6.764614324156983, 4.703337687184024, 2.669011665357262, 2.6652045863361966, 2.6614901976250334, 2.661012467411596, 2.6587203788343596, 2.647226780406515, 2.6419504510684395, 2.6372384919723784, 2.6343718686805015, 2.5171672709163593, 4.969001183970742, 12.314360231520338, 1.8348354199387023, 1.8348230773647989, 1.8348010543407751, 1.8347986342282452, 1.8347819354517876, 1.83475035298327, 1.834468893896022, 1.8343660391134937, 1.8343153377559887, 1.8340424700682223, 5.312177980960812, 4.095328944072569, 7.793317036641906, 3.4974670067659708, 3.4838858192696813, 10.596430767459566, 14.766536348486474, 4.3468899611240195, 7.485140391084325, 6.450906269400656, 6.837304824110395, 9.936470920732452, 10.142977186833953, 7.081276368267522, 5.141576020333037, 14.996378307647994, 15.793774408868194, 6.053974900937513, 5.999718882148208, 64.61038699737084, 4.917022491072241, 8.88616434771403, 11.8052973051786, 46.22043977599689, 7.761590813440106, 5.988902915228786, 15.127651019549479, 8.992763528348867, 11.025657085569076, 10.910095744212857, 15.353653712193285, 10.783068877734141, 7.765735014136611, 10.475021466185666, 8.148085204606035, 7.85638758928826, 8.19320384652678, 9.157987514912303, 8.200974343838352, 8.250785099932411, 8.054612230311834, 8.089166597016284, 9.660208133214574, 5.835036483866394, 5.018889107181257, 4.226592997318034, 4.205577437000468, 4.1886115856001584, 3.4066328194477578, 3.4066091047202756, 3.405295931628805, 3.403030097212129, 3.4021955304389286, 3.40198449331861, 3.392674905754416, 3.3242224646493623, 2.600236986611705, 2.5966218081555805, 2.592791041267803, 5.6431460117058085, 2.496033515885581, 1.788133929133034, 1.7881336895903324, 1.7881220717692932, 1.788112370289869, 1.7881096155487977, 1.7881057828655682, 1.788069372374889, 1.7879879278562645, 1.7875421388881458, 1.7873179269192263, 1.7838930651397116, 8.929800275797964, 5.627932654712139, 3.405393185965751, 25.00385815143798, 8.602076156389888, 18.143891746477724, 12.950119219880907, 10.504937265997501, 5.2321204386485025, 95.85448005776209, 6.971152066359527, 86.33926903831107, 21.61920026082865, 17.60860962495271, 5.807022443971957, 7.497323899848276, 16.217474007571457, 6.475802192316149, 11.832972544860844, 9.084575522650518, 14.722343321614682, 11.65971993215939, 10.65824363700239, 6.301794061933101, 12.055380278150063, 13.585721824935268, 9.28238317863188, 9.353627969012248, 11.214199251866747, 12.451968133482247, 8.187636620746002, 7.598589139793667, 7.967219008223645, 7.21494425572714, 7.46496120174469, 7.022930658617811, 3.3959559746960117, 3.3824626602885632, 3.3824634770875104, 3.3624858000382463, 3.3447912802460484, 2.584965489042864, 2.584659393637413, 4.525115175237487, 2.579889083586226, 2.577962254869861, 2.577434398550255, 2.572839904472445, 2.572775173155882, 2.566275699733544, 2.562549462936572, 4.960519655611788, 1.779218444231049, 1.7792159938342074, 1.7792159938342074, 1.7792031292507895, 1.7791778084834273, 1.7791571843100114, 1.7791590221076425, 1.7791424819289625, 1.7791288005465975, 1.779134926538701, 1.7791130771668644, 1.7791042965781825, 1.7790808136084515, 1.7788308731306186, 11.039598911827676, 5.771443367951005, 6.531879920566934, 22.148542420671866, 4.196502256411483, 3.175005120896245, 9.249220543581496, 6.213021214767988, 7.071366640381779, 3.391456025096337, 7.9294596751208966, 3.3848838565677006, 14.252350966669049, 6.434584871977866, 14.990131150088482, 18.26014979591462, 44.58351989613597, 7.044961980816738, 5.5944034213511555, 6.585188303853735, 7.117977272301817, 12.82813131445326, 7.347291126321882, 35.159022466482085, 9.12814398524621, 9.934920809330665, 9.184273592096524, 11.785016165403112, 7.481343352731849, 7.268938870516019, 9.008118647155928, 6.9552161964968535, 7.870446767987087, 9.32045848055754, 9.556888287005318, 8.941665518412382, 8.300374611420638, 7.418448200202159, 7.082623763471624], \"Total\": [29.0, 26.0, 47.0, 49.0, 75.0, 330.0, 45.0, 47.0, 386.0, 109.0, 48.0, 36.0, 17.0, 13.0, 75.0, 84.0, 53.0, 20.0, 20.0, 16.0, 63.0, 72.0, 24.0, 25.0, 10.0, 26.0, 43.0, 42.0, 38.0, 17.0, 8.54190216919182, 7.685524485455932, 6.82844380022962, 6.827634454980997, 5.971876686741098, 5.971697331129899, 5.11446921531006, 5.11424998294505, 5.966752193888337, 16.15731917405333, 4.258039069042116, 4.258035349156207, 4.257745034776137, 4.2575946364122474, 4.255642378285009, 3.401197779422218, 3.4011894226296064, 3.4011690450812275, 3.401123908392439, 3.4010065545628367, 3.4011795759155365, 3.4008309907197094, 3.4011014643325828, 3.4011080550632737, 3.401079297135934, 3.400956855690016, 9.341403908058526, 3.4007222078742587, 3.400831292054617, 7.63560292662213, 7.669598598302021, 7.631597452712319, 53.41291330716759, 9.337095577336783, 36.21304675293851, 84.11618867869149, 109.02767447496424, 75.20153938425938, 26.203651701775772, 35.36075528399307, 18.637655997544645, 18.532974515238262, 11.83040655704761, 23.689597774132842, 20.19557153822628, 37.7583496128849, 43.87629942668037, 45.60574121924141, 70.3787976705348, 330.1072405585127, 57.19742906479145, 38.61267919489213, 38.65967944294944, 386.02510032294384, 15.237249356093653, 22.758866728879422, 16.119253916954808, 42.13743115436727, 72.14848222618116, 62.40796994898359, 33.65778135223836, 16.928431110458735, 28.642928933326512, 26.121036071172046, 34.31549402124402, 42.66029081611543, 57.482844137025445, 6.72386421043965, 5.882127986364556, 5.040220586471676, 12.577185275634651, 4.198217141221866, 4.197877401254518, 4.198285813526454, 20.201608488440502, 47.879239751155815, 3.3563313828429533, 3.3559509305621886, 3.356387865202542, 3.355635647829068, 3.3561269779415968, 3.3565371769019614, 3.355039303061578, 3.3567610501924445, 49.549775497726934, 6.715869722737818, 6.688837374749371, 3.348443845526366, 9.189122109004439, 7.540530682367494, 10.123466700411889, 2.514376543648499, 2.514369888493875, 2.5143627934240884, 2.5143421382310622, 2.5143275953021735, 2.5143275616669687, 25.22602702872849, 24.14904350579377, 75.89516952842469, 10.835445682741277, 5.877578533522211, 7.507173732660056, 7.595003081530542, 35.83464442178629, 63.24821544308525, 14.179803468810501, 386.02510032294384, 43.57069681421961, 21.819312367258622, 45.07491624298794, 11.768172789369618, 9.142754905986386, 12.516795728056437, 72.14848222618116, 30.914671460554327, 72.04279006234763, 21.775825050215214, 34.256227741024496, 28.54112160437292, 330.1072405585127, 42.557993481476814, 75.20153938425938, 57.19742906479145, 109.02767447496424, 46.66106839960475, 57.482844137025445, 31.774435774856677, 21.783198105348074, 38.65967944294944, 45.41198559109619, 39.90788243262073, 29.15496903837557, 26.65185719424075, 6.673384186896639, 13.330727991355152, 4.167307434275879, 4.167757216880325, 8.344652833343916, 5.839275330918566, 3.3331601411388467, 3.3331820334053144, 3.332931753135084, 3.332923042801037, 3.3333365868580467, 3.333343983731443, 3.332433690559988, 3.3319584310114143, 3.331953062074763, 3.337007549690589, 6.675213308907124, 16.589664955494793, 2.498981035970886, 2.4989774501706803, 2.4989667104117914, 2.4989664332010633, 2.498965054290473, 2.498945829615904, 2.4988370072125217, 2.4989250985469136, 2.498959426760604, 2.4986896067240236, 7.518545460212111, 5.863881651297877, 11.76025238673453, 4.976117907222187, 4.98003697710287, 17.505000771266765, 25.96834530262885, 6.666710501416208, 12.563261243677358, 10.74614818283428, 11.54890657355796, 18.367634298351376, 19.17262781931378, 12.578931265449622, 8.3084147364421, 37.527926296877446, 42.13743115436727, 10.823964361146379, 10.859968047942159, 386.02510032294384, 8.305803135227844, 20.95923313436514, 34.10452546115584, 330.1072405585127, 17.491200574763422, 11.682483272675825, 70.3787976705348, 25.802520441513444, 43.57069681421961, 45.60574121924141, 109.02767447496424, 47.05678737149398, 20.5964983729714, 46.66106839960475, 24.409826664797098, 21.615577283413458, 25.946088768369204, 42.557993481476814, 42.66029081611543, 57.482844137025445, 53.41291330716759, 62.40796994898359, 10.59865950951031, 6.521829726007027, 5.708750250997817, 4.895337426402963, 4.895854683087511, 4.895362610004378, 4.082645357968986, 4.082712145699433, 4.0825142309470515, 4.082627535374361, 4.082693779034216, 4.082709924412346, 4.083459412277275, 4.081837136239977, 3.2694090610016624, 3.2694733743068185, 3.2693796181336556, 7.329525670237646, 3.271943321204563, 2.456534417904261, 2.4565341011884674, 2.456531351392361, 2.4565248934620345, 2.456525428495467, 2.4565252399893436, 2.456512097777858, 2.456478826336567, 2.4565009453905677, 2.4565085752785234, 2.4567391622209556, 13.073297022465665, 8.246573283180572, 4.916639219852403, 47.05678737149398, 14.872596582391232, 38.027959995285684, 26.250705615839475, 20.5964983729714, 9.037280018608781, 330.1072405585127, 13.19607503423924, 386.02510032294384, 62.40796994898359, 48.569999611754405, 10.67567286217765, 15.754586944463496, 63.24821544308525, 13.200590482765048, 40.66899979718524, 26.412853592444666, 72.04279006234763, 46.66106839960475, 39.90788243262073, 14.012277722445258, 57.19742906479145, 84.11618867869149, 37.7583496128849, 42.557993481476814, 75.89516952842469, 109.02767447496424, 35.36075528399307, 27.379176417497575, 34.31549402124402, 30.914671460554327, 57.482844137025445, 34.10452546115584, 4.066069153668492, 4.066942635920521, 4.066943843297243, 4.067110556413538, 4.068264300772972, 3.2573444065429085, 3.2572474296699587, 5.708969402907168, 3.257566959648322, 3.2575844603204698, 3.25761234340942, 3.2576177130298056, 3.2580837200469785, 3.25778785606785, 3.2585537411465086, 6.542034752142791, 2.4484184715422606, 2.448418581929941, 2.448418632950158, 2.448413555134117, 2.4484021014510287, 2.4483943271359028, 2.4483972788043697, 2.44839829036037, 2.448381961895543, 2.4483946639731755, 2.4483924703903686, 2.448383236691824, 2.4483681170721834, 2.448425537833095, 17.256680985705508, 8.996850714415494, 10.643621709566153, 45.41198559109619, 6.573078096018557, 4.885524029904892, 19.041018132153958, 12.364135386545758, 14.847785970415657, 5.691951083969874, 18.13984313350279, 5.780131943357549, 40.54275275853926, 13.97138447071762, 48.569999611754405, 72.04279006234763, 330.1072405585127, 18.280071744669616, 12.402372714466274, 16.64573158025808, 19.8342688241051, 57.482844137025445, 21.605981998291007, 386.02510032294384, 36.21304675293851, 42.66029081611543, 38.61267919489213, 70.3787976705348, 25.649282731755484, 24.14790211428413, 45.07491624298794, 24.86486540068835, 37.527926296877446, 72.14848222618116, 84.11618867869149, 75.20153938425938, 75.89516952842469, 39.90788243262073, 63.24821544308525], \"Category\": [\"Default\", \"Default\", \"Default\", \"Default\", \"Default\", \"Default\", \"Default\", \"Default\", \"Default\", \"Default\", \"Default\", \"Default\", \"Default\", \"Default\", \"Default\", \"Default\", \"Default\", \"Default\", \"Default\", \"Default\", \"Default\", \"Default\", \"Default\", \"Default\", \"Default\", \"Default\", \"Default\", \"Default\", \"Default\", \"Default\", \"Topic1\", \"Topic1\", \"Topic1\", \"Topic1\", \"Topic1\", \"Topic1\", \"Topic1\", \"Topic1\", \"Topic1\", \"Topic1\", \"Topic1\", \"Topic1\", \"Topic1\", \"Topic1\", \"Topic1\", \"Topic1\", \"Topic1\", \"Topic1\", \"Topic1\", \"Topic1\", \"Topic1\", \"Topic1\", \"Topic1\", \"Topic1\", \"Topic1\", \"Topic1\", \"Topic1\", \"Topic1\", \"Topic1\", \"Topic1\", \"Topic1\", \"Topic1\", \"Topic1\", \"Topic1\", \"Topic1\", \"Topic1\", \"Topic1\", \"Topic1\", \"Topic1\", \"Topic1\", \"Topic1\", \"Topic1\", \"Topic1\", \"Topic1\", \"Topic1\", \"Topic1\", \"Topic1\", \"Topic1\", \"Topic1\", \"Topic1\", \"Topic1\", \"Topic1\", \"Topic1\", \"Topic1\", \"Topic1\", \"Topic1\", \"Topic1\", \"Topic1\", \"Topic1\", \"Topic1\", \"Topic1\", \"Topic1\", \"Topic1\", \"Topic1\", \"Topic1\", \"Topic1\", \"Topic1\", \"Topic2\", \"Topic2\", \"Topic2\", \"Topic2\", \"Topic2\", \"Topic2\", \"Topic2\", \"Topic2\", \"Topic2\", \"Topic2\", \"Topic2\", \"Topic2\", \"Topic2\", \"Topic2\", \"Topic2\", \"Topic2\", \"Topic2\", \"Topic2\", \"Topic2\", \"Topic2\", \"Topic2\", \"Topic2\", \"Topic2\", \"Topic2\", \"Topic2\", \"Topic2\", \"Topic2\", \"Topic2\", \"Topic2\", \"Topic2\", \"Topic2\", \"Topic2\", \"Topic2\", \"Topic2\", \"Topic2\", \"Topic2\", \"Topic2\", \"Topic2\", \"Topic2\", \"Topic2\", \"Topic2\", \"Topic2\", \"Topic2\", \"Topic2\", \"Topic2\", \"Topic2\", \"Topic2\", \"Topic2\", \"Topic2\", \"Topic2\", \"Topic2\", \"Topic2\", \"Topic2\", \"Topic2\", \"Topic2\", \"Topic2\", \"Topic2\", \"Topic2\", \"Topic2\", \"Topic2\", \"Topic2\", \"Topic2\", \"Topic2\", \"Topic2\", \"Topic2\", \"Topic3\", \"Topic3\", \"Topic3\", \"Topic3\", \"Topic3\", \"Topic3\", \"Topic3\", \"Topic3\", \"Topic3\", \"Topic3\", \"Topic3\", \"Topic3\", \"Topic3\", \"Topic3\", \"Topic3\", \"Topic3\", \"Topic3\", \"Topic3\", \"Topic3\", \"Topic3\", \"Topic3\", \"Topic3\", \"Topic3\", \"Topic3\", \"Topic3\", \"Topic3\", \"Topic3\", \"Topic3\", \"Topic3\", \"Topic3\", \"Topic3\", \"Topic3\", \"Topic3\", \"Topic3\", \"Topic3\", \"Topic3\", \"Topic3\", \"Topic3\", \"Topic3\", \"Topic3\", \"Topic3\", \"Topic3\", \"Topic3\", \"Topic3\", \"Topic3\", \"Topic3\", \"Topic3\", \"Topic3\", \"Topic3\", \"Topic3\", \"Topic3\", \"Topic3\", \"Topic3\", \"Topic3\", \"Topic3\", \"Topic3\", \"Topic3\", \"Topic3\", \"Topic3\", \"Topic3\", \"Topic3\", \"Topic3\", \"Topic3\", \"Topic3\", \"Topic3\", \"Topic3\", \"Topic3\", \"Topic3\", \"Topic3\", \"Topic3\", \"Topic3\", \"Topic3\", \"Topic4\", \"Topic4\", \"Topic4\", \"Topic4\", \"Topic4\", \"Topic4\", \"Topic4\", \"Topic4\", \"Topic4\", \"Topic4\", \"Topic4\", \"Topic4\", \"Topic4\", \"Topic4\", \"Topic4\", \"Topic4\", \"Topic4\", \"Topic4\", \"Topic4\", \"Topic4\", \"Topic4\", \"Topic4\", \"Topic4\", \"Topic4\", \"Topic4\", \"Topic4\", \"Topic4\", \"Topic4\", \"Topic4\", \"Topic4\", \"Topic4\", \"Topic4\", \"Topic4\", \"Topic4\", \"Topic4\", \"Topic4\", \"Topic4\", \"Topic4\", \"Topic4\", \"Topic4\", \"Topic4\", \"Topic4\", \"Topic4\", \"Topic4\", \"Topic4\", \"Topic4\", \"Topic4\", \"Topic4\", \"Topic4\", \"Topic4\", \"Topic4\", \"Topic4\", \"Topic4\", \"Topic4\", \"Topic4\", \"Topic4\", \"Topic4\", \"Topic4\", \"Topic4\", \"Topic4\", \"Topic4\", \"Topic4\", \"Topic4\", \"Topic4\", \"Topic4\", \"Topic4\", \"Topic5\", \"Topic5\", \"Topic5\", \"Topic5\", \"Topic5\", \"Topic5\", \"Topic5\", \"Topic5\", \"Topic5\", \"Topic5\", \"Topic5\", \"Topic5\", \"Topic5\", \"Topic5\", \"Topic5\", \"Topic5\", \"Topic5\", \"Topic5\", \"Topic5\", \"Topic5\", \"Topic5\", \"Topic5\", \"Topic5\", \"Topic5\", \"Topic5\", \"Topic5\", \"Topic5\", \"Topic5\", \"Topic5\", \"Topic5\", \"Topic5\", \"Topic5\", \"Topic5\", \"Topic5\", \"Topic5\", \"Topic5\", \"Topic5\", \"Topic5\", \"Topic5\", \"Topic5\", \"Topic5\", \"Topic5\", \"Topic5\", \"Topic5\", \"Topic5\", \"Topic5\", \"Topic5\", \"Topic5\", \"Topic5\", \"Topic5\", \"Topic5\", \"Topic5\", \"Topic5\", \"Topic5\", \"Topic5\", \"Topic5\", \"Topic5\", \"Topic5\", \"Topic5\", \"Topic5\", \"Topic5\", \"Topic5\", \"Topic5\", \"Topic5\", \"Topic5\", \"Topic5\", \"Topic5\", \"Topic5\", \"Topic5\"], \"logprob\": [30.0, 29.0, 28.0, 27.0, 26.0, 25.0, 24.0, 23.0, 22.0, 21.0, 20.0, 19.0, 18.0, 17.0, 16.0, 15.0, 14.0, 13.0, 12.0, 11.0, 10.0, 9.0, 8.0, 7.0, 6.0, 5.0, 4.0, 3.0, 2.0, 1.0, -5.9983, -6.1124, -6.2435, -6.2458, -6.3915, -6.3924, -6.5696, -6.5703, -6.438, -5.4462, -6.7811, -6.7811, -6.7827, -6.7843, -6.8008, -7.053, -7.053, -7.053, -7.053, -7.0532, -7.0531, -7.0533, -7.0533, -7.0534, -7.0538, -7.0541, -6.0451, -7.0559, -7.0563, -6.2477, -6.2435, -6.2928, -4.5356, -6.1326, -4.9154, -4.1609, -3.9936, -4.338, -5.257, -4.9997, -5.5631, -5.5744, -5.9706, -5.3839, -5.5304, -5.0548, -4.9409, -4.9364, -4.6459, -3.5848, -4.871, -5.1712, -5.1728, -3.7254, -5.8073, -5.5772, -5.7948, -5.2226, -4.9482, -5.0701, -5.408, -5.7718, -5.5389, -5.5842, -5.4904, -5.406, -5.3641, -6.109, -6.2551, -6.4294, -5.5216, -6.6423, -6.6426, -6.6453, -5.0987, -4.2448, -6.9148, -6.9171, -6.9171, -6.919, -6.9194, -6.9209, -6.9272, -6.937, -4.2503, -6.2526, -6.2619, -6.9893, -5.9824, -6.183, -5.8889, -7.2891, -7.2891, -7.2891, -7.2891, -7.2891, -7.2891, -5.0393, -5.0864, -4.0083, -5.8841, -6.4819, -6.2554, -6.2538, -4.969, -4.5328, -5.7566, -3.0889, -4.8579, -5.4318, -4.8879, -5.9419, -6.1373, -5.8976, -4.5816, -5.2684, -4.7001, -5.5231, -5.23, -5.3743, -3.8888, -5.1502, -4.9373, -5.0894, -4.7926, -5.292, -5.2592, -5.5228, -5.6885, -5.5962, -5.6518, -5.6824, -4.3354, -4.4319, -5.8706, -5.1843, -6.386, -6.3922, -5.7279, -6.0913, -6.6579, -6.6593, -6.6607, -6.6609, -6.6617, -6.6661, -6.6681, -6.6698, -6.6709, -6.7164, -6.0364, -5.1288, -7.0326, -7.0326, -7.0326, -7.0326, -7.0326, -7.0327, -7.0328, -7.0329, -7.0329, -7.0331, -5.9696, -6.2297, -5.5863, -6.3875, -6.3914, -5.2791, -4.9472, -6.1701, -5.6267, -5.7754, -5.7172, -5.3434, -5.3228, -5.6821, -6.0022, -4.9318, -4.88, -5.8389, -5.8479, -3.4712, -6.0469, -5.4551, -5.171, -3.8062, -5.5904, -5.8497, -4.9231, -5.4432, -5.2394, -5.2499, -4.9082, -5.2616, -5.5899, -5.2906, -5.5418, -5.5782, -5.5363, -5.4249, -5.5353, -5.5293, -5.5533, -5.549, -5.3613, -5.8654, -6.0161, -6.1879, -6.1929, -6.197, -6.4036, -6.4036, -6.404, -6.4047, -6.4049, -6.405, -6.4077, -6.4281, -6.6737, -6.6751, -6.6766, -5.8989, -6.7146, -7.0482, -7.0482, -7.0482, -7.0482, -7.0482, -7.0482, -7.0482, -7.0482, -7.0485, -7.0486, -7.0505, -5.4399, -5.9016, -6.404, -4.4103, -5.4773, -4.731, -5.0682, -5.2775, -5.9745, -3.0665, -5.6875, -3.171, -4.5557, -4.7609, -5.8703, -5.6148, -4.8432, -5.7613, -5.1584, -5.4227, -4.94, -5.1732, -5.263, -5.7885, -5.1398, -5.0203, -5.4012, -5.3936, -5.2121, -5.1074, -5.5267, -5.6014, -5.554, -5.6532, -5.6191, -5.6801, -6.2471, -6.2511, -6.2511, -6.257, -6.2623, -6.52, -6.5201, -5.96, -6.5219, -6.5227, -6.5229, -6.5247, -6.5247, -6.5272, -6.5287, -5.8682, -6.8935, -6.8935, -6.8935, -6.8935, -6.8935, -6.8935, -6.8935, -6.8936, -6.8936, -6.8936, -6.8936, -6.8936, -6.8936, -6.8937, -5.0682, -5.7168, -5.593, -4.3719, -6.0354, -6.3144, -5.2452, -5.643, -5.5136, -6.2484, -5.3991, -6.2504, -4.8128, -5.608, -4.7623, -4.565, -3.6723, -5.5174, -5.7479, -5.5849, -5.5071, -4.918, -5.4754, -3.9098, -5.2583, -5.1736, -5.2522, -5.0029, -5.4573, -5.4861, -5.2716, -5.5302, -5.4066, -5.2375, -5.2124, -5.279, -5.3534, -5.4657, -5.512], \"loglift\": [30.0, 29.0, 28.0, 27.0, 26.0, 25.0, 24.0, 23.0, 22.0, 21.0, 20.0, 19.0, 18.0, 17.0, 16.0, 15.0, 14.0, 13.0, 12.0, 11.0, 10.0, 9.0, 8.0, 7.0, 6.0, 5.0, 4.0, 3.0, 2.0, 1.0, 1.2302, 1.2217, 1.2089, 1.2067, 1.1949, 1.194, 1.1718, 1.1711, 1.1493, 1.1449, 1.1436, 1.1436, 1.1421, 1.1405, 1.1244, 1.0964, 1.0964, 1.0964, 1.0963, 1.0962, 1.0962, 1.0961, 1.0961, 1.096, 1.0956, 1.0953, 1.094, 1.0936, 1.0932, 1.093, 1.0927, 1.0484, 0.8598, 1.0069, 0.8686, 0.7803, 0.6882, 0.7153, 0.8506, 0.8082, 0.8852, 0.8795, 0.9322, 0.8245, 0.8376, 0.6874, 0.6512, 0.617, 0.4737, -0.0107, 0.456, 0.5487, 0.5458, -0.3078, 0.8425, 0.6713, 0.7986, 0.4099, 0.1466, 0.1696, 0.4492, 0.7727, 0.4797, 0.5265, 0.3475, 0.2142, -0.0421, 1.3588, 1.3465, 1.3266, 1.32, 1.2965, 1.2963, 1.2935, 1.269, 1.26, 1.2478, 1.2456, 1.2455, 1.2438, 1.2433, 1.2416, 1.2358, 1.2255, 1.2202, 1.2164, 1.2112, 1.1757, 1.173, 1.1702, 1.1697, 1.1624, 1.1624, 1.1624, 1.1624, 1.1624, 1.1624, 1.1063, 1.1029, 1.0358, 1.1066, 1.1205, 1.1022, 1.0922, 0.8256, 0.6937, 0.9651, 0.3286, 0.7412, 0.8589, 0.6773, 0.9662, 1.0232, 0.9488, 0.5132, 0.6738, 0.3961, 0.7696, 0.6096, 0.6479, -0.3147, 0.4724, 0.116, 0.2375, -0.1107, 0.2386, 0.0628, 0.392, 0.6039, 0.1225, -0.0941, 0.0045, 1.6654, 1.6587, 1.6047, 1.5991, 1.5602, 1.5539, 1.524, 1.5176, 1.5117, 1.5103, 1.5089, 1.5088, 1.5078, 1.5034, 1.5017, 1.5001, 1.499, 1.452, 1.4387, 1.4359, 1.425, 1.425, 1.425, 1.425, 1.425, 1.4249, 1.4248, 1.4247, 1.4247, 1.4247, 1.3865, 1.3749, 1.3224, 1.3813, 1.3766, 1.2319, 1.1694, 1.3062, 1.216, 1.2236, 1.2097, 1.1195, 1.0972, 1.1593, 1.254, 0.8166, 0.7526, 1.1529, 1.1405, -0.0536, 1.2097, 0.8758, 0.673, -0.2321, 0.9214, 1.0657, 0.1965, 0.6799, 0.3597, 0.3036, -0.2263, 0.2605, 0.7585, 0.24, 0.6367, 0.7218, 0.5812, 0.1977, 0.0849, -0.2073, -0.1579, -0.3093, 1.6514, 1.6329, 1.6154, 1.5973, 1.5922, 1.5882, 1.5631, 1.5631, 1.5628, 1.5621, 1.5618, 1.5618, 1.5588, 1.5388, 1.5151, 1.5137, 1.5123, 1.4827, 1.4735, 1.4266, 1.4266, 1.4266, 1.4266, 1.4266, 1.4266, 1.4266, 1.4265, 1.4263, 1.4261, 1.4241, 1.363, 1.3621, 1.3769, 1.1118, 1.1966, 1.0042, 1.0376, 1.0709, 1.1976, 0.5076, 1.106, 0.2465, 0.684, 0.7295, 1.1353, 1.0016, 0.3832, 1.032, 0.5096, 0.6769, 0.1563, 0.3574, 0.4239, 0.9451, 0.1872, -0.079, 0.3411, 0.2291, -0.168, -0.4256, 0.2812, 0.4623, 0.2839, 0.2891, -0.2971, 0.1639, 1.7237, 1.7195, 1.7195, 1.7135, 1.708, 1.6726, 1.6725, 1.6714, 1.6706, 1.6698, 1.6696, 1.6678, 1.6676, 1.6652, 1.6635, 1.6271, 1.5845, 1.5845, 1.5845, 1.5845, 1.5845, 1.5845, 1.5845, 1.5845, 1.5845, 1.5845, 1.5845, 1.5845, 1.5845, 1.5843, 1.4571, 1.4598, 1.4155, 1.1858, 1.4551, 1.4728, 1.1817, 1.2156, 1.162, 1.386, 1.0763, 1.3687, 0.8584, 1.1285, 0.7282, 0.5313, -0.0983, 0.9503, 1.1077, 0.9765, 0.879, 0.4039, 0.8252, -0.4922, 0.5257, 0.4466, 0.4677, 0.1167, 0.6717, 0.7032, 0.2936, 0.6298, 0.3418, -0.1427, -0.2711, -0.2257, -0.3093, 0.2212, -0.2856]}, \"token.table\": {\"Topic\": [1, 2, 3, 4, 5, 2, 3, 1, 2, 3, 5, 1, 3, 4, 5, 1, 4, 5, 3, 1, 2, 3, 4, 5, 3, 4, 5, 1, 2, 3, 4, 5, 1, 3, 4, 5, 1, 2, 4, 5, 5, 5, 4, 4, 2, 3, 4, 1, 2, 3, 4, 5, 3, 1, 3, 5, 1, 2, 3, 4, 2, 4, 5, 5, 2, 3, 4, 1, 4, 2, 3, 1, 3, 4, 5, 4, 1, 2, 3, 4, 5, 1, 2, 3, 4, 5, 2, 1, 2, 5, 2, 5, 5, 1, 2, 4, 5, 1, 3, 4, 5, 1, 2, 3, 4, 5, 2, 3, 5, 5, 1, 3, 4, 5, 1, 2, 3, 4, 5, 1, 2, 3, 4, 5, 1, 2, 3, 5, 2, 3, 3, 4, 3, 1, 2, 3, 4, 5, 1, 3, 2, 3, 1, 2, 3, 5, 5, 3, 1, 2, 3, 5, 1, 1, 3, 4, 2, 3, 5, 4, 1, 2, 3, 4, 5, 3, 4, 1, 3, 4, 5, 1, 2, 3, 4, 5, 1, 1, 1, 1, 3, 2, 4, 1, 2, 3, 4, 5, 1, 2, 3, 4, 5, 4, 1, 4, 1, 1, 2, 3, 4, 5, 1, 2, 3, 4, 5, 1, 2, 3, 4, 5, 3, 1, 2, 3, 4, 5, 3, 5, 1, 1, 2, 3, 5, 5, 1, 2, 3, 4, 5, 1, 2, 3, 4, 3, 3, 5, 1, 3, 4, 5, 1, 2, 3, 4, 1, 2, 3, 4, 5, 2, 3, 5, 1, 2, 3, 4, 1, 2, 4, 3, 1, 3, 2, 3, 4, 4, 2, 1, 2, 3, 5, 1, 2, 3, 4, 5, 2, 1, 2, 3, 4, 5, 1, 2, 3, 4, 5, 4, 5, 1, 3, 5, 1, 5, 1, 5, 1, 2, 5, 1, 2, 3, 4, 5, 1, 2, 3, 4, 1, 5, 1, 1, 2, 3, 4, 5, 3, 1, 2, 3, 4, 1, 2, 3, 4, 5, 1, 3, 4, 5, 2, 5, 1, 5, 3, 4, 1, 2, 3, 4, 5, 4, 3, 5, 3, 5, 1, 2, 5, 1, 2, 3, 4, 5, 1, 2, 4, 5, 1, 2, 3, 5, 3, 4, 1, 2, 3, 5, 3, 1, 2, 3, 4, 5, 5, 1, 5, 1, 3, 4, 5, 1, 1, 2, 3, 4, 5, 1, 2, 3, 4, 5, 4, 1, 2, 5, 1, 3, 4, 5, 1, 2, 3, 4, 5, 5, 1, 1, 2, 5, 2, 5, 5, 1, 5, 4, 4, 1, 2, 4, 5, 4, 2, 3, 2, 4, 5, 4, 1, 2, 3, 4, 5, 5, 4, 3, 5, 3, 1, 2, 3, 4, 5, 1, 2, 3, 4, 5, 1, 2, 4, 5, 1, 2, 3, 4, 5, 1, 2, 3, 4, 5, 1, 2, 3, 1, 2, 3, 4, 5, 4, 1, 2, 5, 1, 2, 3, 4, 5, 4, 1, 2, 3, 4, 5, 1, 2, 3, 4, 5, 1, 2, 3, 4, 5, 1, 2, 3, 4, 4, 5, 2, 1, 2, 3, 5, 2, 5, 1, 3, 4, 5, 5, 1, 2, 2, 3, 2, 4, 2, 3, 1, 3, 1, 1, 2, 4, 2, 1, 2, 3, 4, 1, 5, 5, 1, 2, 3, 5, 4, 1, 3, 4, 4, 3, 5, 2, 3, 4, 2, 1, 2, 3, 4, 5, 1, 5, 1, 4, 4, 2, 3, 4, 1, 2, 3, 4, 5, 1, 2, 3, 4, 5, 5, 2, 1, 2, 3, 4, 1, 2, 3, 4, 1, 2, 3, 4, 5, 1, 2, 3, 4, 5, 5, 1, 2, 4, 3, 4, 5, 1, 2, 3, 4, 5, 1, 1, 3, 5, 1, 2, 3, 4, 5, 2, 2, 4, 1, 2, 3, 5, 3, 4, 1, 2, 4, 5, 1, 1, 2, 3, 4, 4, 5, 1, 1, 2, 3, 4, 5, 2, 1, 2, 1, 2, 3, 4, 5, 1, 2, 3, 4, 5, 1, 2, 3, 4, 5, 3, 1, 1, 2, 3, 2, 4, 5, 2, 3, 4, 5, 2, 4, 1, 2, 3, 4, 1, 2, 4, 5, 1, 2, 3, 4, 5, 2, 4, 2, 3, 4, 1, 2, 3, 4, 5], \"Freq\": [0.26658003578204365, 0.16661252236377727, 0.13934865506788646, 0.29081458448950215, 0.13631933647945413, 0.6805523698554395, 0.17013809246385989, 0.09208130222717263, 0.27624390668151794, 0.5524878133630359, 0.09208130222717263, 0.12039774886532609, 0.6019887443266304, 0.12039774886532609, 0.12039774886532609, 0.9399286040599985, 0.8186068607909605, 0.1364344767984934, 0.8003441164214843, 0.1850517313303202, 0.13878879849774015, 0.3701034626606404, 0.1850517313303202, 0.13878879849774015, 0.9000408528348744, 0.7348176823990474, 0.7376546408292113, 0.20588841012837694, 0.04117768202567539, 0.08235536405135079, 0.3705991382310785, 0.30883261519256544, 0.32251893182780683, 0.16125946591390342, 0.08062973295695171, 0.4837783977417103, 0.16175817697502193, 0.16175817697502193, 0.08087908848751096, 0.4852745309250658, 0.8168608980715187, 0.9209956411038421, 0.8141661837146221, 0.9199872201621375, 0.0971038845430436, 0.3884155381721744, 0.5340713649867398, 0.37883761754827033, 0.20398948637214556, 0.08742406558806239, 0.23313084156816635, 0.08742406558806239, 0.9598523898429512, 0.8820496600539751, 0.6028796053336861, 0.20095986844456204, 0.12938840398494328, 0.4528594139473015, 0.1617355049811791, 0.22642970697365075, 0.7039616287875504, 0.08281901515147652, 0.16563803030295304, 0.9207866518410837, 0.3423929576133531, 0.5135894364200296, 0.08559823940333827, 0.7862049901318577, 0.1310341650219763, 0.7954301603693303, 0.8003262014443318, 0.11428264229933015, 0.1904710704988836, 0.49522478329709735, 0.2285652845986603, 0.8141551949278469, 0.11104511628542703, 0.34701598839195946, 0.09716447674974865, 0.2082095930351757, 0.2498515116422108, 0.22961242517654154, 0.5051473353883914, 0.09184497007061662, 0.04592248503530831, 0.13776745510592492, 0.893934405500214, 0.1158971416146993, 0.2317942832293986, 0.6374342788808461, 0.8500325072134729, 0.9206538355093884, 0.8168538275812789, 0.23141739173880135, 0.3239843484343219, 0.09256695669552054, 0.3239843484343219, 0.18477518340499946, 0.5543255502149984, 0.18477518340499946, 0.09238759170249973, 0.33129171893022485, 0.20705732433139054, 0.08282292973255621, 0.08282292973255621, 0.28988025406394674, 0.09395298210394225, 0.28185894631182673, 0.6576708747275958, 0.816862502309984, 0.15150837400881723, 0.30301674801763445, 0.4545251220264517, 0.07575418700440861, 0.4593998479732417, 0.26798324465105766, 0.11484996199331042, 0.03828332066443681, 0.11484996199331042, 0.23457297504730834, 0.08796486564274063, 0.3518594625709625, 0.20525135316639478, 0.1466081094045677, 0.8820443754292786, 0.7445052102591532, 0.14890104205183063, 0.8168537737315585, 0.14980794676113826, 0.7490397338056913, 0.20339096591879277, 0.6101728977563783, 0.8003273498379907, 0.11162382282683211, 0.5302131584274525, 0.05581191141341606, 0.13952977853354012, 0.16743573424024816, 0.8372577436337757, 0.8003307893887193, 0.8941773043500284, 0.800330878169536, 0.6438577899270649, 0.053654815827255405, 0.21461926330902162, 0.053654815827255405, 0.9208702753349324, 0.8999991215491848, 0.28676975449789355, 0.32773686228330695, 0.32773686228330695, 0.04096710778541337, 0.8786775106501188, 0.2550965660723384, 0.6802575095262356, 0.7349631795362317, 0.7956999649945308, 0.1326166608324218, 0.1326166608324218, 0.734820890224783, 0.05041778998097849, 0.3025067398858709, 0.20167115992391396, 0.10083557996195698, 0.3529245298668494, 0.8003374768261409, 0.8170177137442014, 0.09367091076224843, 0.18734182152449685, 0.5620254645734906, 0.18734182152449685, 0.32817404035865916, 0.2109690259448523, 0.18752802306209093, 0.023441002882761366, 0.23441002882761366, 0.8379768151124881, 0.9394644271390269, 0.939497613462489, 0.882137338840563, 0.9001107920808026, 0.6660296108837119, 0.26641184435348475, 0.21317458195566882, 0.1598809364667516, 0.399702341166879, 0.026646822744458603, 0.21317458195566882, 0.1564730733977902, 0.10431538226519348, 0.5215769113259674, 0.05215769113259674, 0.1564730733977902, 0.8141735147714138, 0.2425249775053999, 0.7275749325161996, 0.9365595439448715, 0.19732256582688534, 0.17265724509852468, 0.12332660364180334, 0.147991924370164, 0.34531449019704935, 0.1431350078873423, 0.33398168507046533, 0.4294050236620269, 0.047711669295780766, 0.047711669295780766, 0.21037152666069275, 0.07888932249775979, 0.15777864499551958, 0.4733359349865587, 0.07888932249775979, 0.9002429691244284, 0.41595136213780626, 0.20797568106890313, 0.20797568106890313, 0.08913243474381563, 0.08913243474381563, 0.6061179866176245, 0.34635313521007116, 0.9394003741168235, 0.13212370967492784, 0.2202061827915464, 0.17616494623323714, 0.48445360214140215, 0.92091837172932, 0.16333077800167609, 0.10888718533445071, 0.5444359266722536, 0.05444359266722536, 0.10888718533445071, 0.5907221959760816, 0.1181444391952163, 0.2362888783904326, 0.05907221959760815, 0.8999971244016982, 0.9380209348188424, 0.0375208373927537, 0.1427319697493823, 0.2854639394987646, 0.4281959092481469, 0.1427319697493823, 0.08500367796937869, 0.1487564364464127, 0.23376011441579136, 0.5312729873086167, 0.16448143879355404, 0.37595757438526634, 0.21147613559171233, 0.21147613559171233, 0.04699469679815829, 0.5592485610601984, 0.23967795474008502, 0.15978530316005668, 0.6487645383734032, 0.07632523980863568, 0.1144878597129535, 0.15265047961727135, 0.2633310320654881, 0.6583275801637203, 0.7348060615479096, 0.8990090538686865, 0.8820729356490792, 0.8004195457562876, 0.6347055528517125, 0.14104567841149168, 0.2115685176172375, 0.7348412841427052, 0.7954413062528831, 0.6365501878632309, 0.14977651479134846, 0.14977651479134846, 0.05616619304675567, 0.5452016053887032, 0.2526544024972039, 0.053190400525727134, 0.013297600131431784, 0.11967840118288606, 0.8937782726330353, 0.24526015820371605, 0.4554831509497584, 0.1751858272883686, 0.10511149637302117, 0.03503716545767372, 0.41895156839347547, 0.27930104559565033, 0.10473789209836887, 0.13965052279782517, 0.03491263069945629, 0.35137336398279306, 0.5270600459741895, 0.12035990399153192, 0.6017995199576596, 0.24071980798306383, 0.15285764106839358, 0.764288205341968, 0.8564023222567927, 0.10705029028209909, 0.656286431120248, 0.26251457244809917, 0.13125728622404959, 0.3049267194704293, 0.3880885520532737, 0.09702213801331842, 0.08316183258284436, 0.12474274887426655, 0.531975026334423, 0.20178363067857424, 0.13757974818993698, 0.11006379855194959, 0.785792563817132, 0.13096542730285535, 0.8821372606776815, 0.21914464878371945, 0.10957232439185972, 0.2556687569143393, 0.2921928650449592, 0.1460964325224796, 0.9001084397177004, 0.6331893070965859, 0.12663786141931718, 0.16885048189242294, 0.12663786141931718, 0.4661681182273704, 0.18128760153286627, 0.10359291516163786, 0.025898228790409466, 0.2330840591136852, 0.3100472303910618, 0.3488031341899445, 0.19377951899441362, 0.1550236151955309, 0.7475140625895915, 0.1495028125179183, 0.1751629636499316, 0.875814818249658, 0.9001758949535152, 0.07501465791279294, 0.2697901815757941, 0.19270727255413866, 0.30833163608662184, 0.07708290902165546, 0.11562436353248319, 0.9435155446806149, 0.9260857030738374, 0.0342994704842162, 0.33345001436926736, 0.6669000287385347, 0.7823095202568157, 0.1303849200428026, 0.816861882840405, 0.38293066338982873, 0.054704380484261246, 0.054704380484261246, 0.10940876096852249, 0.38293066338982873, 0.08354351532708786, 0.8145492744391066, 0.04177175766354393, 0.06265763649531589, 0.63513021030559, 0.05522871393961652, 0.02761435696980826, 0.24852921272827436, 0.602405165622936, 0.200801721874312, 0.13770723074692387, 0.4819753076142335, 0.2524632563693604, 0.11475602562243654, 0.900046764322276, 0.5296841680065135, 0.10593683360130271, 0.026484208400325678, 0.2383578756029311, 0.07945262520097703, 0.8168660082970042, 0.8820422082333678, 0.816853790753181, 0.1106527625503345, 0.3319582876510035, 0.5532638127516725, 0.1106527625503345, 0.8820613658318516, 0.4656013774393246, 0.2586674319107359, 0.02586674319107359, 0.10346697276429435, 0.15520045914644154, 0.07797489001608102, 0.31189956006432407, 0.15594978003216203, 0.15594978003216203, 0.27291211505628354, 0.8171040423947146, 0.8821655567907312, 0.6562573383730751, 0.32812866918653755, 0.31510920048271956, 0.15755460024135978, 0.05251820008045326, 0.4726638007240793, 0.5825275820231356, 0.05944159000236077, 0.08321822600330507, 0.16643645200661014, 0.11888318000472153, 0.737654859821, 0.8820671866044157, 0.15213572475363096, 0.15213572475363096, 0.6085428990145239, 0.8745995036989653, 0.07950904579081502, 0.9209198897067652, 0.7820948433956902, 0.9209277722625403, 0.814158246603948, 0.8141550899605374, 0.8820469290253379, 0.7383175767972718, 0.18457939419931796, 0.09228969709965898, 0.611257532194568, 0.26600889900632146, 0.6650222475158036, 0.15298359675934248, 0.6884261854170411, 0.15298359675934248, 0.8758484397046558, 0.5272670270867588, 0.21969459461948285, 0.043938918923896564, 0.1318167567716897, 0.08787783784779313, 0.8168554678216712, 0.7348056617609158, 0.8003723308992532, 0.8168706274412882, 0.8990940476319577, 0.15144141794448862, 0.11358106345836645, 0.15144141794448862, 0.34074319037509937, 0.2271621269167329, 0.14229650492034468, 0.4585109602988884, 0.03162144553785437, 0.25297156430283496, 0.1106750593824903, 0.20205032628955766, 0.20205032628955766, 0.13470021752637176, 0.4714507613423012, 0.17144913895858768, 0.30003599317752844, 0.2143114236982346, 0.25717370843788157, 0.06429342710947039, 0.27563477011269816, 0.22551935736493484, 0.02505770637388165, 0.27563477011269816, 0.17540394461717154, 0.07959716673911119, 0.23879150021733356, 0.5571801671737783, 0.16086956175074513, 0.28152173306380396, 0.12065217131305885, 0.16086956175074513, 0.28152173306380396, 0.8141581317555182, 0.6762235905776408, 0.0845279488222051, 0.1690558976444102, 0.5938787175596946, 0.02827993893141403, 0.08483981679424209, 0.22623951145131224, 0.02827993893141403, 0.9175789665624816, 0.1968783893493437, 0.32122263525419237, 0.16838283299614923, 0.22278344057952051, 0.09066767930561881, 0.5242009991848612, 0.1823307823251691, 0.15953943453452296, 0.04558269558129228, 0.09116539116258456, 0.07578010866150327, 0.07578010866150327, 0.30312043464601307, 0.5304607606305228, 0.7376244039565676, 0.41959927906573485, 0.2972161560048955, 0.06993321317762247, 0.20979963953286743, 0.8141580692795546, 0.8168617704608394, 0.8923440171031771, 0.3179920388774796, 0.0794980097193699, 0.5564860680355893, 0.0794980097193699, 0.9527698155071775, 0.7374152164671304, 0.6437054764899094, 0.09903161176767837, 0.14854741765151755, 0.14854741765151755, 0.7378133245208921, 0.8820654773181525, 0.5972923818543553, 0.9527854004321044, 0.9003713768089692, 0.7936160593320647, 0.8141561062782288, 0.11983722031001191, 0.8388605421700833, 0.17053550181707128, 0.6821420072682851, 0.9108031616120387, 0.7496977986377867, 0.10709968551968381, 0.10709968551968381, 0.7954412956119342, 0.6203761074500875, 0.31018805372504377, 0.06203761074500875, 0.06203761074500875, 0.346012862612656, 0.5190192939189839, 0.8168592890909192, 0.1699499179521423, 0.5948247128324979, 0.08497495897607114, 0.08497495897607114, 0.9176052800232992, 0.20171326394692385, 0.20171326394692385, 0.6051397918407715, 0.8140872383830722, 0.7198116022328138, 0.9210230615805493, 0.17125412715257113, 0.8562706357628557, 0.8141624874590216, 0.8938330748076712, 0.11434320882956607, 0.22868641765913214, 0.4573728353182643, 0.057171604414783035, 0.1715148132443491, 0.7821283694264379, 0.8168655829805203, 0.8664803764279336, 0.12378291091827623, 0.9175970164714958, 0.2856326637932602, 0.6283918603451724, 0.11425306551730408, 0.143149736104662, 0.071574868052331, 0.071574868052331, 0.214724604156993, 0.429449208313986, 0.15856638841481568, 0.7135487478666706, 0.07928319420740784, 0.03964159710370392, 0.03964159710370392, 0.8168605605853564, 0.7954366947877182, 0.40344177455245894, 0.1423912145479267, 0.3797099054611378, 0.07119560727396335, 0.15403368806849116, 0.19254211008561395, 0.5776263302568418, 0.07701684403424558, 0.1996675923141639, 0.443705760698142, 0.0221852880349071, 0.1109264401745355, 0.1996675923141639, 0.32047188870827437, 0.11216516104789602, 0.12818875548330974, 0.3525190775791018, 0.09614156661248231, 0.8168514700961825, 0.2291547925911196, 0.549971502218687, 0.18332383407289568, 0.7233419139079952, 0.12055698565133253, 0.12055698565133253, 0.2609474222299016, 0.2435509274145748, 0.13917195852261416, 0.1217754637072874, 0.22615443259924803, 0.8372828900646836, 0.1499990137246203, 0.5999960548984812, 0.1499990137246203, 0.14595886148935516, 0.4378765844680655, 0.2043424060850972, 0.05838354459574206, 0.14595886148935516, 0.8938875137078338, 0.8937186636588293, 0.8170998389017035, 0.36045276658888514, 0.12015092219629506, 0.12015092219629506, 0.4205282276870327, 0.5583395927467575, 0.37222639516450495, 0.10090863076119028, 0.7870873199372841, 0.060545178456714165, 0.060545178456714165, 0.8787816687553903, 0.19042073337595597, 0.19042073337595597, 0.12694715558397063, 0.44431504454389725, 0.8141636549236293, 0.9209327197755812, 0.9393995534427625, 0.2212987790425793, 0.19671002581562605, 0.14753251936171954, 0.2950650387234391, 0.14753251936171954, 0.7954279158179124, 0.882104692090054, 0.7954258104467876, 0.5043224687311106, 0.175416510862995, 0.24119770243661814, 0.04385412771574875, 0.04385412771574875, 0.2517747303739836, 0.3461902542642275, 0.1258873651869918, 0.2203028890772357, 0.0629436825934959, 0.4262647415552536, 0.08525294831105072, 0.2131323707776268, 0.09946177302955918, 0.17050589662210144, 0.8003331220917804, 0.8820918019035157, 0.19756078220898646, 0.7902431288359458, 0.9003728276207887, 0.8940183961690993, 0.20468633331427238, 0.6140589999428172, 0.33076361001813165, 0.16538180500906582, 0.05512726833635528, 0.4410181466908422, 0.7617702667309956, 0.2176486476374273, 0.09900201764351653, 0.8415171499698906, 0.049501008821758265, 0.049501008821758265, 0.6474945503288373, 0.053957879194069774, 0.2158315167762791, 0.10791575838813955, 0.03952820737657649, 0.6456273871507493, 0.052704276502101986, 0.14493676038078046, 0.10540855300420397, 0.9528625106594626, 0.7346711934934972, 0.8938180331011787, 0.800331319786245, 0.7348089674042776, 0.27544164869560256, 0.41316247304340387, 0.09181388289853419, 0.09181388289853419, 0.13772082434780128], \"Term\": [\"alice\", \"alice\", \"alice\", \"alice\", \"alice\", \"almost\", \"almost\", \"among\", \"among\", \"among\", \"among\", \"angrily\", \"angrily\", \"angrily\", \"angrily\", \"ann\", \"asleep\", \"asleep\", \"authority\", \"away\", \"away\", \"away\", \"away\", \"away\", \"bank\", \"bats\", \"beau\", \"began\", \"began\", \"began\", \"began\", \"began\", \"beginning\", \"beginning\", \"beginning\", \"beginning\", \"better\", \"better\", \"better\", \"better\", \"bite\", \"brought\", \"brown\", \"business\", \"ca\", \"ca\", \"ca\", \"came\", \"came\", \"came\", \"came\", \"came\", \"care\", \"carefully\", \"case\", \"case\", \"cat\", \"cat\", \"cat\", \"cat\", \"caterpillar\", \"caterpillar\", \"caterpillar\", \"cautiously\", \"change\", \"change\", \"change\", \"changed\", \"changed\", \"chose\", \"coaxing\", \"come\", \"come\", \"come\", \"come\", \"comfits\", \"could\", \"could\", \"could\", \"could\", \"could\", \"course\", \"course\", \"course\", \"course\", \"course\", \"crab\", \"cried\", \"cried\", \"cried\", \"croquet\", \"cry\", \"custody\", \"day\", \"day\", \"day\", \"day\", \"deal\", \"deal\", \"deal\", \"deal\", \"dear\", \"dear\", \"dear\", \"dear\", \"dear\", \"dinah\", \"dinah\", \"dinah\", \"directly\", \"done\", \"done\", \"done\", \"done\", \"door\", \"door\", \"door\", \"door\", \"door\", \"dormouse\", \"dormouse\", \"dormouse\", \"dormouse\", \"dormouse\", \"doth\", \"draw\", \"draw\", \"drawling\", \"dream\", \"dream\", \"dropped\", \"dropped\", \"drunk\", \"duchess\", \"duchess\", \"duchess\", \"duchess\", \"duchess\", \"e\", \"earnestly\", \"easily\", \"entangled\", \"ever\", \"ever\", \"ever\", \"ever\", \"execution\", \"expecting\", \"eyes\", \"eyes\", \"eyes\", \"eyes\", \"fall\", \"far\", \"far\", \"fast\", \"feel\", \"feel\", \"feel\", \"fellow\", \"felt\", \"felt\", \"felt\", \"felt\", \"felt\", \"ferrets\", \"finish\", \"finished\", \"finished\", \"finished\", \"finished\", \"first\", \"first\", \"first\", \"first\", \"first\", \"four\", \"french\", \"frowning\", \"fun\", \"fur\", \"gardeners\", \"gardeners\", \"get\", \"get\", \"get\", \"get\", \"get\", \"getting\", \"getting\", \"getting\", \"getting\", \"getting\", \"giddy\", \"give\", \"give\", \"glass\", \"go\", \"go\", \"go\", \"go\", \"go\", \"good\", \"good\", \"good\", \"good\", \"good\", \"got\", \"got\", \"got\", \"got\", \"got\", \"grave\", \"great\", \"great\", \"great\", \"great\", \"great\", \"grow\", \"grow\", \"grunted\", \"gryphon\", \"gryphon\", \"gryphon\", \"gryphon\", \"guests\", \"half\", \"half\", \"half\", \"half\", \"half\", \"hand\", \"hand\", \"hand\", \"hand\", \"hanging\", \"hare\", \"hare\", \"hastily\", \"hastily\", \"hastily\", \"hastily\", \"hatter\", \"hatter\", \"hatter\", \"hatter\", \"head\", \"head\", \"head\", \"head\", \"head\", \"hear\", \"hear\", \"hear\", \"heard\", \"heard\", \"heard\", \"heard\", \"hearts\", \"hearts\", \"honour\", \"hope\", \"hunting\", \"hush\", \"indeed\", \"indeed\", \"indeed\", \"indignantly\", \"invitation\", \"king\", \"king\", \"king\", \"king\", \"know\", \"know\", \"know\", \"know\", \"know\", \"lady\", \"large\", \"large\", \"large\", \"large\", \"large\", \"last\", \"last\", \"last\", \"last\", \"last\", \"late\", \"late\", \"least\", \"least\", \"least\", \"leave\", \"leave\", \"lessons\", \"lessons\", \"let\", \"let\", \"let\", \"like\", \"like\", \"like\", \"like\", \"like\", \"little\", \"little\", \"little\", \"little\", \"live\", \"live\", \"lived\", \"long\", \"long\", \"long\", \"long\", \"long\", \"longer\", \"look\", \"look\", \"look\", \"look\", \"looked\", \"looked\", \"looked\", \"looked\", \"looked\", \"looking\", \"looking\", \"looking\", \"looking\", \"lory\", \"lory\", \"loud\", \"loud\", \"mad\", \"mad\", \"made\", \"made\", \"made\", \"made\", \"made\", \"majesty\", \"march\", \"march\", \"mean\", \"mean\", \"meaning\", \"meaning\", \"messages\", \"minute\", \"minute\", \"minute\", \"minute\", \"minute\", \"mock\", \"mock\", \"mock\", \"mock\", \"mouse\", \"mouse\", \"mouse\", \"mouse\", \"moved\", \"moved\", \"much\", \"much\", \"much\", \"much\", \"muchness\", \"must\", \"must\", \"must\", \"must\", \"must\", \"mustard\", \"muttering\", \"mystery\", \"nearly\", \"nearly\", \"nearly\", \"nearly\", \"need\", \"never\", \"never\", \"never\", \"never\", \"never\", \"next\", \"next\", \"next\", \"next\", \"next\", \"number\", \"nurse\", \"offended\", \"offended\", \"oh\", \"oh\", \"oh\", \"oh\", \"one\", \"one\", \"one\", \"one\", \"one\", \"ootiful\", \"order\", \"others\", \"others\", \"others\", \"ought\", \"ought\", \"owl\", \"pair\", \"panther\", \"paris\", \"pebbles\", \"pieces\", \"pigeon\", \"pigeon\", \"pigeon\", \"pity\", \"place\", \"place\", \"please\", \"please\", \"please\", \"politely\", \"poor\", \"poor\", \"poor\", \"poor\", \"poor\", \"pray\", \"prizes\", \"proceed\", \"proves\", \"puppy\", \"put\", \"put\", \"put\", \"put\", \"put\", \"queen\", \"queen\", \"queen\", \"queen\", \"queen\", \"question\", \"question\", \"question\", \"question\", \"quite\", \"quite\", \"quite\", \"quite\", \"quite\", \"rabbit\", \"rabbit\", \"rabbit\", \"rabbit\", \"rabbit\", \"remember\", \"remember\", \"remember\", \"replied\", \"replied\", \"replied\", \"replied\", \"replied\", \"rome\", \"room\", \"room\", \"room\", \"round\", \"round\", \"round\", \"round\", \"round\", \"sad\", \"said\", \"said\", \"said\", \"said\", \"said\", \"say\", \"say\", \"say\", \"say\", \"say\", \"saying\", \"saying\", \"saying\", \"saying\", \"screamed\", \"see\", \"see\", \"see\", \"see\", \"sell\", \"sending\", \"serpent\", \"set\", \"set\", \"set\", \"set\", \"severely\", \"sha\", \"shall\", \"shall\", \"shall\", \"shall\", \"sharply\", \"shore\", \"show\", \"sigh\", \"sighing\", \"simple\", \"singers\", \"sister\", \"sister\", \"sit\", \"sit\", \"slowly\", \"small\", \"small\", \"small\", \"smiled\", \"something\", \"something\", \"something\", \"something\", \"soo\", \"soo\", \"sorrowful\", \"speak\", \"speak\", \"speak\", \"speak\", \"spectacles\", \"spoke\", \"spoke\", \"spoke\", \"stamping\", \"stick\", \"stuff\", \"subject\", \"subject\", \"sulkily\", \"sulky\", \"sure\", \"sure\", \"sure\", \"sure\", \"sure\", \"swam\", \"swimming\", \"table\", \"table\", \"tails\", \"take\", \"take\", \"take\", \"talking\", \"talking\", \"talking\", \"talking\", \"talking\", \"tell\", \"tell\", \"tell\", \"tell\", \"tell\", \"telling\", \"tells\", \"thing\", \"thing\", \"thing\", \"thing\", \"things\", \"things\", \"things\", \"things\", \"think\", \"think\", \"think\", \"think\", \"think\", \"thought\", \"thought\", \"thought\", \"thought\", \"thought\", \"thoughts\", \"three\", \"three\", \"three\", \"till\", \"till\", \"till\", \"time\", \"time\", \"time\", \"time\", \"time\", \"times\", \"tired\", \"tired\", \"tired\", \"tone\", \"tone\", \"tone\", \"tone\", \"tone\", \"tossing\", \"treacle\", \"tree\", \"tried\", \"tried\", \"tried\", \"tried\", \"turning\", \"turning\", \"turtle\", \"turtle\", \"turtle\", \"turtle\", \"twinkle\", \"use\", \"use\", \"use\", \"use\", \"using\", \"venture\", \"ventured\", \"voice\", \"voice\", \"voice\", \"voice\", \"voice\", \"wash\", \"washing\", \"wasting\", \"way\", \"way\", \"way\", \"way\", \"way\", \"well\", \"well\", \"well\", \"well\", \"well\", \"went\", \"went\", \"went\", \"went\", \"went\", \"wet\", \"whatever\", \"whether\", \"whether\", \"whiskers\", \"whisper\", \"whispered\", \"whispered\", \"wish\", \"wish\", \"wish\", \"wish\", \"witness\", \"witness\", \"wo\", \"wo\", \"wo\", \"wo\", \"words\", \"words\", \"words\", \"words\", \"would\", \"would\", \"would\", \"would\", \"would\", \"wow\", \"writing\", \"wrote\", \"yawning\", \"yer\", \"yet\", \"yet\", \"yet\", \"yet\", \"yet\"]}, \"R\": 30, \"lambda.step\": 0.01, \"plot.opts\": {\"xlab\": \"PC1\", \"ylab\": \"PC2\"}, \"topic.order\": [4, 5, 3, 1, 2]};\n",
       "\n",
       "function LDAvis_load_lib(url, callback){\n",
       "  var s = document.createElement('script');\n",
       "  s.src = url;\n",
       "  s.async = true;\n",
       "  s.onreadystatechange = s.onload = callback;\n",
       "  s.onerror = function(){console.warn(\"failed to load library \" + url);};\n",
       "  document.getElementsByTagName(\"head\")[0].appendChild(s);\n",
       "}\n",
       "\n",
       "if(typeof(LDAvis) !== \"undefined\"){\n",
       "   // already loaded: just create the visualization\n",
       "   !function(LDAvis){\n",
       "       new LDAvis(\"#\" + \"ldavis_el1294423212098502249254487247\", ldavis_el1294423212098502249254487247_data);\n",
       "   }(LDAvis);\n",
       "}else if(typeof define === \"function\" && define.amd){\n",
       "   // require.js is available: use it to load d3/LDAvis\n",
       "   require.config({paths: {d3: \"https://d3js.org/d3.v5\"}});\n",
       "   require([\"d3\"], function(d3){\n",
       "      window.d3 = d3;\n",
       "      LDAvis_load_lib(\"https://cdn.jsdelivr.net/gh/bmabey/pyLDAvis@3.4.0/pyLDAvis/js/ldavis.v3.0.0.js\", function(){\n",
       "        new LDAvis(\"#\" + \"ldavis_el1294423212098502249254487247\", ldavis_el1294423212098502249254487247_data);\n",
       "      });\n",
       "    });\n",
       "}else{\n",
       "    // require.js not available: dynamically load d3 & LDAvis\n",
       "    LDAvis_load_lib(\"https://d3js.org/d3.v5.js\", function(){\n",
       "         LDAvis_load_lib(\"https://cdn.jsdelivr.net/gh/bmabey/pyLDAvis@3.4.0/pyLDAvis/js/ldavis.v3.0.0.js\", function(){\n",
       "                 new LDAvis(\"#\" + \"ldavis_el1294423212098502249254487247\", ldavis_el1294423212098502249254487247_data);\n",
       "            })\n",
       "         });\n",
       "}\n",
       "</script>"
      ],
      "text/plain": [
       "<IPython.core.display.HTML object>"
      ]
     },
     "execution_count": 26,
     "metadata": {},
     "output_type": "execute_result"
    }
   ],
   "source": [
    "# Visualize the topics\n",
    "pyLDAvis.enable_notebook()\n",
    "vis = pyLDAvis.gensim.prepare(lda_model, corpus, dictionary)\n",
    "pyLDAvis.display(vis)"
   ]
  }
 ],
 "metadata": {
  "kernelspec": {
   "display_name": "tf2.6",
   "language": "python",
   "name": "python3"
  },
  "language_info": {
   "codemirror_mode": {
    "name": "ipython",
    "version": 3
   },
   "file_extension": ".py",
   "mimetype": "text/x-python",
   "name": "python",
   "nbconvert_exporter": "python",
   "pygments_lexer": "ipython3",
   "version": "3.9.13"
  },
  "orig_nbformat": 4
 },
 "nbformat": 4,
 "nbformat_minor": 2
}
